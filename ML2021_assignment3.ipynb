{
 "cells": [
  {
   "cell_type": "markdown",
   "metadata": {},
   "source": [
    "# Assignment 3\n",
    "\n",
    "*Part of the course:\n",
    "Machine Learning (code: INFOB3ML), fall 2021, Utrecht University*\n",
    "\n",
    "Total points: 9 (+ 1 for free)\n",
    "\n",
    "Submit one ipynb file per pair.\n",
    "\n",
    "**Before you submit, click Kernel > Restart & Run All to make sure you submit a working version of your code!**"
   ]
  },
  {
   "cell_type": "markdown",
   "metadata": {},
   "source": [
    "## General\n",
    "This is a largely freeform project, where you will implement and use several machine learning methods you've seen during this course, and write a report on your results."
   ]
  },
  {
   "cell_type": "code",
   "execution_count": 108,
   "metadata": {},
   "outputs": [],
   "source": [
    "import math\n",
    "import random\n",
    "import numpy as np\n",
    "from statistics import mean\n",
    "from scipy.spatial import distance\n",
    "import matplotlib.pyplot as plt\n",
    "from sklearn.decomposition import PCA\n",
    "from sklearn.neighbors import NearestNeighbors\n",
    "from sklearn.neural_network import MLPClassifier\n",
    "import warnings\n",
    "warnings.filterwarnings('ignore')"
   ]
  },
  {
   "cell_type": "markdown",
   "metadata": {},
   "source": [
    "## Implement K-means\n",
    "\n",
    "**Task:** *(2 points)* Complete the function below to carry out the K-means clustering algorithm.\n",
    "\n",
    "The function takes two arguments:\n",
    "\n",
    "* A data matrix `X`. Your function should be able to handle any number of data points (rows) and any number of real-valued features (columns);\n",
    "\n",
    "* The number of clusters `K`.\n",
    "\n",
    "The function should return two things:\n",
    "\n",
    "* A numpy array `mu` with the cluster centroids. It should have `K` rows, each describing of the `K` clusters, and a number of columns equal to the number of features;\n",
    "\n",
    "* A list (or numpy array if you prefer) `assigned_to`, containing one element for each data point. The value of the element is the index of the cluster that data point is assigned to. The indices should correspond to those of the rows of `mu`, so they should be between `0` and `K-1`.\n",
    "\n",
    "There are different ways to initialise the algorithm, and you can pick one you like. This step should involve some randomness, so that if you run the algorithm repeatedly, you have a chance of getting a different clustering every time."
   ]
  },
  {
   "cell_type": "code",
   "execution_count": 2,
   "metadata": {},
   "outputs": [],
   "source": [
    "def K_means(X, K):\n",
    "    mu = []\n",
    "    assigned_to = []\n",
    "    old_centroids = []\n",
    "\n",
    "    random_centroids = random.sample(range(X.shape[0]), K)\n",
    "    for i in random_centroids:\n",
    "        mu.append(X[i])\n",
    "    for i in range(len(X)):\n",
    "        assigned_to.append(math.inf)\n",
    "    \n",
    "    while(True):\n",
    "        data= []\n",
    "        centroids = []\n",
    "\n",
    "        for i in range (K):\n",
    "            data.append([])    \n",
    "\n",
    "        for index in range(len(X)):\n",
    "            distance = math.inf\n",
    "            closest_centroid = math.inf\n",
    "            for centroid_index in range(len(mu)):\n",
    "                distance_temp = Euclidean_distance(mu[centroid_index], X[index])\n",
    "                if (distance_temp < distance):\n",
    "                    distance = distance_temp\n",
    "                    closest_centroid = centroid_index\n",
    "                assigned_to[index] = closest_centroid\n",
    "                data[closest_centroid].append(X[index])\n",
    "\n",
    "        for centroid in data:\n",
    "            average = [sum(x)/len(x) for x in zip(*centroid)]\n",
    "            centroids.append(average)\n",
    "        \n",
    "        if(centroids == old_centroids):\n",
    "            break\n",
    "        \n",
    "        mu = centroids\n",
    "        old_centroids = centroids      \n",
    "    \n",
    "    return mu, assigned_to\n",
    "\n",
    "\n",
    "def Euclidean_distance(point1, point2):\n",
    "    return distance.euclidean(point1, point2)"
   ]
  },
  {
   "cell_type": "markdown",
   "metadata": {},
   "source": [
    "To test if your function is working well, you can run it on the following simulated data."
   ]
  },
  {
   "cell_type": "code",
   "execution_count": 122,
   "metadata": {},
   "outputs": [
    {
     "name": "stdout",
     "output_type": "stream",
     "text": [
      "mu:  [[0.3966211109588324, 0.9462807901697117], [1.1235464811631282, 3.433277092224547], [-0.11109517706533507, -0.6718891434598546]] \n",
      "assigned to:  [2, 2, 2, 2, 0, 0, 2, 2, 2, 2, 2, 0, 0, 2, 2, 0, 2, 2, 2, 2, 2, 0, 2, 2, 0, 2, 2, 2, 2, 0, 0, 0, 2, 0, 2, 0, 0, 2, 0, 2, 2, 2, 0, 0, 0, 2, 2, 2, 2, 0, 1, 1, 1, 1, 1, 1, 1, 1, 1, 1, 1, 1, 0, 1, 0, 1, 1, 1, 1, 1, 1, 1, 1, 1, 0, 1, 1, 0, 1, 1, 1, 1, 1, 1, 1, 1, 1, 1, 1, 1, 1, 1, 0, 1, 0, 1, 1, 1, 1, 1]\n"
     ]
    }
   ],
   "source": [
    "X_simulated = np.random.normal(0, 1, (100, 2))\n",
    "X_simulated[50:,:] += [1, 3] # Move points 50 through 99 to be centred on (1,3).\n",
    "mu, lijst = K_means(X_simulated, 3)\n",
    "print(\"mu: \", mu, \"\\nassigned to: \", lijst)"
   ]
  },
  {
   "cell_type": "code",
   "execution_count": 123,
   "metadata": {},
   "outputs": [
    {
     "data": {
      "image/png": "[encoded data removed]",
      "text/plain": [
       "<Figure size 432x288 with 1 Axes>"
      ]
     },
     "metadata": {
      "needs_background": "light"
     },
     "output_type": "display_data"
    },
    {
     "data": {
      "image/png": "[encoded data removed]",
      "text/plain": [
       "<Figure size 432x288 with 1 Axes>"
      ]
     },
     "metadata": {
      "needs_background": "light"
     },
     "output_type": "display_data"
    }
   ],
   "source": [
    "plt.figure(0)\n",
    "for points in X_simulated:\n",
    "    plt.plot(points[0], points[1], 'bo')\n",
    "def PlotPointsClassification(X, Assigned):\n",
    "    #plot up to 7 clusters with different colors\n",
    "    plt.figure(1)\n",
    "    for points in range(len(X)):\n",
    "        colors = ['bo', 'go', 'ro', 'co', 'mo', 'yo', 'ko']\n",
    "        clr_indx = Assigned[points]\n",
    "        plt.plot(X[points][0], X[points][1], colors[clr_indx])\n",
    "\n",
    "PlotPointsClassification(X_simulated, lijst)"
   ]
  },
  {
   "cell_type": "markdown",
   "metadata": {},
   "source": [
    "## Data preprocessing\n",
    "\n",
    "**Task: Pick a dataset.** *(1 point)* Find a dataset that you find interesting to analyse. Some properties:\n",
    "\n",
    "* It should be a supervised learning problem, either regression or classification (in other words: there should be some label that must be predicted based on features, and this label can be real-valued or discrete);\n",
    "\n",
    "* It shouldn't be too big, so the computation times don't become annoying;\n",
    "\n",
    "* It should have say 5~10 numeric features. A feature is called \"numeric\" if its values really represent numbers. Sometimes non-numeric information is encoded as numbers (e.g., yes=1, no=2, not sure=3). Then doing things like computing differences or averages of those numbers doesn't really mean anything. So such features are not considered numeric. (If your data also has non-numeric features, we'll ignore those.)\n",
    "\n",
    "Example website with many data sets: http://archive.ics.uci.edu/ml/index.php\n",
    "\n",
    "Write code to load your dataset from a file in the same folder as your notebook. (Include that file with your notebook when submitting your assignment.)\n",
    "\n",
    "If your data includes non-numeric features, have your code remove those after loading.\n",
    "\n",
    "In the text cell below, give a (very brief) description of the data: what is it about, what does the label mean and what are its possible values, how many numeric features does it have, what is the source of your data?"
   ]
  },
  {
   "cell_type": "code",
   "execution_count": 72,
   "metadata": {},
   "outputs": [],
   "source": [
    "# Your code here\n",
    "data = []\n",
    "X_points = np.full((210, 7), 0.00)\n",
    "labels = []\n",
    "\n",
    "with open('seeds_dataset.txt') as data:\n",
    "    data = data.readlines()\n",
    "\n",
    "row = 0\n",
    "for line in data:\n",
    "    line.splitlines()\n",
    "    column = 0    \n",
    "    for index in range(len(line.split()) -1):\n",
    "        X_points[row, column] = float(line.split()[index])\n",
    "        column += 1\n",
    "    row += 1\n",
    "for line in data:\n",
    "    line.splitlines()\n",
    "    for index in range(len(line.split())):\n",
    "        if(index == len(line.split()) - 1):\n",
    "            labels.append(line.split()[index])"
   ]
  },
  {
   "cell_type": "markdown",
   "metadata": {},
   "source": [
    "*Your description of the data here*\n",
    "source: http://archive.ics.uci.edu/ml/datasets/seeds\n",
    "We chose kernels for our classification problem. The kernels belong to three different varieties of wheat: Kama, Rosa and Canadian, 70 elements each, randomly selected. Thus making it have 3 labels, each for one of the varieties of wheat, it's values will be 0,1,2.\n",
    "\n",
    "It has 7 numeric features, which are the geometric measures of the kernel;\n",
    "1. Area A of the kernel\n",
    "2. Perimeter P,\n",
    "3. Compactness based on the formula C = 4*pi*A/P^2,\n",
    "4. Length of kernel,\n",
    "5. Width of kernel,\n",
    "6. Asymmetry coefficient\n",
    "7. Length of kernel groove."
   ]
  },
  {
   "cell_type": "markdown",
   "metadata": {},
   "source": [
    "In some datasets, the different features may represent completely different things, each measured in their own way. If one feature has very large values while another has only very small ones, this may have an impact on the results of certain machine learning algorithms. K-means for example measures distances between data points, but if one feature has values in the thousands and another has values between 0 and 1, the second feature would effectively end up being ignored. This is often undesirable. Some data preprocessing is the necessary to avoid this effect.\n",
    "\n",
    "**Task: Normalise the dataset.** *(0.5 point)* Divide each numerical feature by its standard deviation. By doing this, each numeric feature in the normalised dataset will have variance 1. As a result, all features will now live in a comparable range, and all will play a role in distance computations."
   ]
  },
  {
   "cell_type": "code",
   "execution_count": 8,
   "metadata": {},
   "outputs": [],
   "source": [
    "def normalize(X_Points):\n",
    "    total = 0\n",
    "    total_len = 0\n",
    "    squared_subtract = []\n",
    "    average_squared_subtract = 0\n",
    "    for features in X_points:\n",
    "        total += sum(features)\n",
    "        total_len += len(features)\n",
    "    average = total / total_len\n",
    "    for features in X_points:\n",
    "        for feature in features:\n",
    "            squared_subtract.append(math.pow((feature - average), 2))\n",
    "    average_squared_subtract = sum(squared_subtract) / len(squared_subtract)\n",
    "    sigma = math.sqrt(average_squared_subtract)\n",
    "    for features_index in range(len(X_points)):\n",
    "        for feature_index in range(len(features)):\n",
    "            X_points[features_index][feature_index] = X_points[features_index][feature_index] / sigma\n",
    "    \n",
    "    return X_points\n",
    "    \n"
   ]
  },
  {
   "cell_type": "markdown",
   "metadata": {},
   "source": [
    "## Explore your data using unsupervised learning\n",
    "\n",
    "Your goal with the data is to solve a supervised learning problem. But unsupervised learning can be a useful first step: it can help to give you a better idea of what the data \"looks like\", and it can help to select relevant features for use in a later supervised learning step.\n",
    "\n",
    "In these steps, only use the features, not the label.\n",
    "\n",
    "**Task: Explore the data using K-means.** *(1.5 points)* Try out a range of values for `K`. Make a plot similar to the one in Figure 6.3 in the book. The discuss the question: what seems to be a reasonable number of clusters for your data?"
   ]
  },
  {
   "cell_type": "code",
   "execution_count": 9,
   "metadata": {},
   "outputs": [
    {
     "data": {
      "image/png": "[encoded data removed]",
      "text/plain": [
       "<Figure size 432x288 with 1 Axes>"
      ]
     },
     "metadata": {
      "needs_background": "light"
     },
     "output_type": "display_data"
    }
   ],
   "source": [
    "normalized_set = normalize(X_points)\n",
    "\n",
    "def Calculate_log_D(norm, centr, a_t):\n",
    "    distance = 0.0\n",
    "    for point_index in range(len(norm)):\n",
    "        centr_index = a_t[point_index]\n",
    "        distance += Euclidean_distance(norm[point_index], centr[centr_index])\n",
    "    return math.log(distance)\n",
    "\n",
    "\n",
    "def Plot_Figure(norm):\n",
    "    fig = plt.figure(2)\n",
    "    ax = fig.add_subplot(111)\n",
    "    log_d = []\n",
    "    for k in range(1, 10):\n",
    "        log_d.append([])\n",
    "        for itterations in range (50):\n",
    "            new_centroids, new_assigned_to = K_means(norm, k)\n",
    "            log_d[len(log_d) - 1].append(Calculate_log_D(norm, new_centroids, new_assigned_to))\n",
    "        ax.boxplot(log_d)\n",
    "    ax.set_title(\"Boxplots for 50 random initialisations of K\", fontsize=14, fontweight='bold')\n",
    "    ax.set_xlabel(\"K\", fontsize=14, fontweight='bold')\n",
    "    ax.set_ylabel(\"logD\", fontsize=14, fontweight='bold')\n",
    "\n",
    "Plot_Figure(normalized_set) #running this function can take a minute or 2.\n"
   ]
  },
  {
   "cell_type": "markdown",
   "metadata": {},
   "source": [
    "After running 50 iterations for 9 different K's we get the following boxplot. We can see that from 4 clusters onwards we have quite a lot of outliers, which could mean that when we take a K of 4 and onwards for example, we'd see that the logD of the points to the centroids become smaller and smaller. Meaning we are overfitting as K increases. As K increases, large clusters will be broken down into smaller and smaller parts, the smaller each cluster, the closer each point will get (on average) to its cluster mean, reducing its contribution to D.\n",
    "\n",
    "When we look at K=1 and K=2 we can still see that we have quite a high logD. This means that we are underfitting the data and we lose valuable information. So these options do not seem like good choices for us.\n",
    "\n",
    "When we have K=3 we look to be generalizen just the right amount. So based on this graph we would think K=3 would be a reasonable number of clusters for our data. When we look at the botplox, the 25th and 75th percentiles show promising values.\n",
    "\n",
    "However, recall that K-means produces a clustering that corresponds to a local minumum of logD. unfortunately this method would be a poor selection criterion. So when we look at which K looks promissing we cannot disregard other K's. It makes sense to choose the number of clusters that produces the best recommendations, perhaps on some validation data as said in the book."
   ]
  },
  {
   "cell_type": "markdown",
   "metadata": {},
   "source": [
    "**Task: Visualise the data using PCA.** *(1 point)* You don't need to implement PCA yourself, you can use a package for this like `sklearn.decomposition.PCA`. Run PCA with 2 components, so that you get a 2-dimensional \"summary\" of your data. Plot this version of your data."
   ]
  },
  {
   "cell_type": "code",
   "execution_count": 10,
   "metadata": {},
   "outputs": [
    {
     "data": {
      "image/png": "[encoded data removed]",
      "text/plain": [
       "<Figure size 432x288 with 1 Axes>"
      ]
     },
     "metadata": {
      "needs_background": "light"
     },
     "output_type": "display_data"
    }
   ],
   "source": [
    "normalized_set = normalize(X_points)\n",
    "centroids, assigned_to = K_means(normalized_set, 3)\n",
    "\n",
    "pca = PCA(n_components = 2)\n",
    "pca.fit(normalized_set)\n",
    "x_pca = pca.transform(normalized_set)\n",
    "x_pca.shape\n",
    "plt.figure(3)\n",
    "colors = ['bo', 'go', 'ro', 'co', 'mo', 'yo', 'ko']\n",
    "\n",
    "for point_index in range(len(x_pca)):\n",
    "    clr_indx = assigned_to[point_index]\n",
    "    plt.plot(x_pca[point_index][0], x_pca[point_index][1], colors[clr_indx])"
   ]
  },
  {
   "cell_type": "markdown",
   "metadata": {},
   "source": [
    "## Supervised learning\n",
    "\n",
    "**Task: Train and compare supervised learning methods.** *(3 points)* For the final part of this assignment, you'll try two different regression or classification methods on your dataset. You don't need to implement these yourself, you can use existing packages. You should also experiment with different settings of those methods, like how many features they get to see, or what the value of a regularisation parameter is. Your goal is to select a method that you believe will give the best results where more data from the same source come in.\n",
    "\n",
    "Write a report on your findings.\n",
    "\n",
    "In your report, you should specifically pay attention to the following:\n",
    "\n",
    "* Which two supervised learning methods will you use? Why did you pick these two? (You can pick a method that hasn't been discussed (yet) during the course, if you want.)\n",
    "\n",
    "* When comparing the performance of different alternatives, keep in mind that the error on training data is not a good estimate of the error on unseen data. To get a measure for the latter, you can for example use a form of cross-validation.\n",
    "\n",
    "* What method and settings do you recommend? What choices (of method, of various settings) make the biggest difference for the performance on new data?"
   ]
  },
  {
   "cell_type": "code",
   "execution_count": 111,
   "metadata": {},
   "outputs": [],
   "source": [
    "test_set = []\n",
    "test_set_labels = []\n",
    "training_set = []\n",
    "training_set_labels = []\n",
    "\n",
    "for indexes in range(len(normalized_set)):\n",
    "    if (indexes % 10 == 0):\n",
    "        test_set.append(normalized_set[indexes])\n",
    "        test_set_labels.append(labels[indexes])\n",
    "    else:\n",
    "        training_set.append(normalized_set[indexes])\n",
    "        training_set_labels.append(labels[indexes])"
   ]
  },
  {
   "cell_type": "code",
   "execution_count": 96,
   "metadata": {},
   "outputs": [
    {
     "name": "stdout",
     "output_type": "stream",
     "text": [
      "Result of our K nearest neighbours:  ['1', '1', '1', '1', '1', '1', '1', '2', '2', '2', '2', '2', '2', '2', '3', '3', '3', '3', '3', '3', '3']\n",
      "The actual labels of these data points:  ['1', '1', '1', '1', '1', '1', '1', '2', '2', '2', '2', '2', '2', '2', '3', '3', '3', '3', '3', '3', '3']\n",
      "100.0 % is being correctly classified by our K nearest neighbours\n"
     ]
    }
   ],
   "source": [
    "def KNN(X, assigned, to_predict):\n",
    "    predictions = []\n",
    "    neigh = NearestNeighbors(n_neighbors=3)\n",
    "    neigh.fit(X)\n",
    "    indexes = neigh.kneighbors(to_predict)[1]\n",
    "    for index in indexes:\n",
    "        predictions.append(assigned[index[0]])\n",
    "    return predictions\n",
    "\n",
    "knn_result = KNN(training_set, training_set_labels, test_set)\n",
    "print(\"Result of our K nearest neighbours: \", knn_result)\n",
    "print(\"The actual labels of these data points: \", test_set_labels)\n",
    "\n",
    "correct = 0\n",
    "\n",
    "for indexes in range(len(knn_result)):\n",
    "    if(knn_result[indexes] == test_set_labels[indexes]):\n",
    "        correct += 1\n",
    "\n",
    "print(correct / len(knn_result) * 100, \"% is being correctly classified by our K nearest neighbours\")"
   ]
  },
  {
   "cell_type": "code",
   "execution_count": 110,
   "metadata": {},
   "outputs": [
    {
     "name": "stdout",
     "output_type": "stream",
     "text": [
      "Result of our Neural Network Model:  ['1' '1' '1' '1' '1' '1' '1' '2' '2' '2' '2' '2' '2' '2' '3' '3' '3' '3'\n",
      " '3' '3' '3']\n",
      "The actual labels of these data points:  ['1', '1', '1', '1', '1', '1', '1', '2', '2', '2', '2', '2', '2', '2', '3', '3', '3', '3', '3', '3', '3']\n",
      "100.0 % is being correctly classified by our Neural Network Model\n"
     ]
    }
   ],
   "source": [
    "def NNM(X, labels, to_predict):\n",
    "    clf = MLPClassifier(solver='lbfgs')\n",
    "    clf.fit(X, labels)\n",
    "    return clf.predict(to_predict)\n",
    "\n",
    "nnm_result = NNM(training_set, training_set_labels, test_set)\n",
    "print(\"Result of our Neural Network Model: \", nnm_result)\n",
    "print(\"The actual labels of these data points: \", test_set_labels)\n",
    "\n",
    "correct = 0\n",
    "\n",
    "for indexes in range(len(nnm_result)):\n",
    "    if(nnm_result[indexes] == test_set_labels[indexes]):\n",
    "        correct += 1\n",
    "\n",
    "print(correct / len(nnm_result) * 100, \"% is being correctly classified by our Neural Network Model\")"
   ]
  },
  {
   "cell_type": "markdown",
   "metadata": {},
   "source": [
    "Which two supervised learning methods will you use? Why did you pick these two? (You can pick a method that hasn't been discussed (yet) during the course, if you want.)\n",
    "\n",
    "* For our two supervised learning methods we chose K-nearest neighbours and a Neural Network Model. First of all we chose K-  nearest neighbours because we thought on a conceptual level K-nearest neighbours and K-means clustering are somewhat similar. Ofcourse these two are completely different in tasks, since K-means clustering represents an unsupervised algorithm, mainly used for clustering, while KNN is a supervised learning algorithm used for classification.                                      We also implemented a Neural Network Model to classify our testing data. We chose the Neural Network Model since we haven't really implemented Neural Networks yet in this class, and the dataset we had looked to be suitable for such a model, apart from not being the biggest dataset.\n",
    "\n",
    "When comparing the performance of different alternatives, keep in mind that the error on training data is not a good estimate of the error on unseen data. To get a measure for the latter, you can for example use a form of cross-validation.\n",
    "\n",
    "* To cross validate we split our dataset in a training set (189 points, 90% of the data) and a test set (21 points, 10% of the data). Since our data was sorted on labels we made sure that both our sets contained all possible labels. This ofcourse doesn't 100% represent real world scenarios in which the to be predicted data can only contain 1 label. We chose for this approach since we didn't only wanted to test our algorithms on 1 label and disregard how it classified other labels.\n",
    "\n",
    "What method and settings do you recommend? What choices (of method, of various settings) make the biggest difference for the performance on new data?\n",
    "\n",
    "* First of all let's start with our K-nearest neighbours. For this algorithm we choose to pick the paramater \"n_neighbors=3\". We had most succes in classifying. With this paramater it looks like that we are neither underfitting nor overfitting, since we score a 100% on our data. Also on a more conceptual level picking the 3 nearest neighbours looks to be a good idea, since we don't have too many data points                                                                                                  For our Neural Network Model we had the choice between 3 solvers. L-BFGS, Adam and SGD we tried all those solvers and we concluded that L-BFGS would be the most optimal solver for our problem. This is exactly in line with the scikit documentation which also empirically observed that L-BFGS converges fast and has better solutions for smaller data sets."
   ]
  },
  {
   "cell_type": "markdown",
   "metadata": {},
   "source": [
    "    \n",
    "---\n",
    "\n",
    "<br>\n",
    "<br>"
   ]
  },
  {
   "cell_type": "markdown",
   "metadata": {},
   "source": [
    "**Remember:**\n",
    "\n",
    "* **Before you submit, click Kernel > Restart & Run All to make sure you submit a working version of your code!**\n",
    "\n",
    "* **Upload both this notebook and your data file in Blackboard**"
   ]
  }
 ],
 "metadata": {
  "kernelspec": {
   "display_name": "Python 3",
   "language": "python",
   "name": "python3"
  },
  "language_info": {
   "codemirror_mode": {
    "name": "ipython",
    "version": 3
   },
   "file_extension": ".py",
   "mimetype": "text/x-python",
   "name": "python",
   "nbconvert_exporter": "python",
   "pygments_lexer": "ipython3",
   "version": "3.8.8"
  },
  "toc": {
   "base_numbering": 1,
   "nav_menu": {},
   "number_sections": true,
   "sideBar": true,
   "skip_h1_title": false,
   "title_cell": "Table of Contents",
   "title_sidebar": "Contents",
   "toc_cell": false,
   "toc_position": {},
   "toc_section_display": true,
   "toc_window_display": true
  }
 },
 "nbformat": 4,
 "nbformat_minor": 4
}
